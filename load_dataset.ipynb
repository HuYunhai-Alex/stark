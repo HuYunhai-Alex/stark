{
 "cells": [
  {
   "cell_type": "code",
   "execution_count": 23,
   "metadata": {},
   "outputs": [
    {
     "name": "stdout",
     "output_type": "stream",
     "text": [
      "Use file from /workspace/.hf_home/hub/datasets--snap-stanford--stark/snapshots/88269e23e90587f99476c5dd74e235a0877e69be/qa/amazon/stark_qa/stark_qa_human_generated_eval.csv.\n",
      "Loading from /workspace/.hf_home/hub/datasets--snap-stanford--stark/snapshots/88269e23e90587f99476c5dd74e235a0877e69be/skb/amazon/processed!\n",
      "Loading cached graph with meta link types ['brand', 'category', 'color']\n"
     ]
    }
   ],
   "source": [
    "from stark_qa import load_qa, load_skb\n",
    "\n",
    "dataset_name = 'amazon'\n",
    "qa_dataset = load_qa(dataset_name, \"/workspace/yunhai/stark/stark\")\n",
    "skb = load_skb(dataset_name, download_processed=True)"
   ]
  },
  {
   "cell_type": "markdown",
   "metadata": {},
   "source": [
    "### Load QA dataset"
   ]
  },
  {
   "cell_type": "code",
   "execution_count": 24,
   "metadata": {},
   "outputs": [
    {
     "name": "stdout",
     "output_type": "stream",
     "text": [
      "Query: Looking for a user-friendly fly fishing knot guide with clear, easy-to-understand illustrations. Ideally, it should be logically organised for easy learning and effective in teaching dependable knot tying techniques. It would be a bonus if it complements the Anglers Accessories Gehrke's Gink that I frequently use. Any recommendations?\n",
      "Query ID: 1\n",
      "Answer:\n",
      " Lake Products THREE-in-One Knot Tying Tool Fly Fishing\n",
      "EZ Tie Blood Knot Tying Tool\n",
      "BenchMaster Pocket Guide - Fly Fishing - Fishing\n",
      "Answer IDs: [291785, 416396, 30]\n"
     ]
    }
   ],
   "source": [
    "# Get one qa pair, we masked out metadata to avoid answer leaking\n",
    "query, q_id, answer_ids, _ = qa_dataset[1]\n",
    "print('Query:', query)\n",
    "print('Query ID:', q_id)\n",
    "print('Answer:\\n', '\\n'.join([skb[aid].title for aid in answer_ids]))\n",
    "print('Answer IDs:', answer_ids)"
   ]
  },
  {
   "cell_type": "code",
   "execution_count": 3,
   "metadata": {},
   "outputs": [
    {
     "name": "stdout",
     "output_type": "stream",
     "text": [
      "Number of training examples: 5910\n",
      "Number of validation examples: 1548\n",
      "Number of test examples: 1642\n"
     ]
    },
    {
     "data": {
      "text/plain": [
       "{'train': tensor([3885, 4522, 2110,  ..., 6839, 3967, 2814]),\n",
       " 'val': tensor([1550, 1486, 6591,  ..., 5606, 1204, 3792]),\n",
       " 'test': tensor([2905, 3863, 4651,  ..., 3891, 7631, 4472]),\n",
       " 'test-0.1': tensor([   3,   85,  135,  173,  214,  222,  290,  291,  372,  601,  750,  755,\n",
       "          788,  795,  850,  860,  861,  957, 1080, 1133, 1249, 1330, 1334, 1362,\n",
       "         1398, 1436, 1524, 1605, 1676, 1815, 1842, 1846, 1938, 1945, 1973, 1991,\n",
       "         2109, 2117, 2154, 2173, 2186, 2202, 2254, 2415, 2441, 2653, 2679, 2753,\n",
       "         2759, 2787, 2856, 2992, 3002, 3061, 3123, 3198, 3211, 3293, 3352, 3411,\n",
       "         3449, 3472, 3724, 3863, 3903, 3913, 4018, 4094, 4270, 4344, 4382, 4398,\n",
       "         4512, 4568, 4614, 4636, 4637, 4640, 4646, 4811, 4942, 4997, 5001, 5129,\n",
       "         5161, 5227, 5413, 5433, 5454, 5677, 5696, 5850, 5863, 5915, 5945, 5965,\n",
       "         6035, 6072, 6094, 6246, 6289, 6312, 6321, 6336, 6369, 6418, 6425, 6609,\n",
       "         6612, 6621, 6716, 6733, 6753, 6766, 6793, 6829, 6876, 6905, 6915, 7072,\n",
       "         7080, 7175, 7260, 7265, 7278, 7328, 7353, 7365, 7478, 7506, 7548, 7631,\n",
       "         7676, 7684, 7697, 7850, 7856, 7896, 8050, 8081, 8120, 8178, 8195, 8273,\n",
       "         8277, 8281, 8322, 8358, 8394, 8424, 8426, 8443, 8590, 8600, 8694, 8713,\n",
       "         8785, 8900, 8916, 8985, 9010, 9053, 9071, 9092])}"
      ]
     },
     "execution_count": 3,
     "metadata": {},
     "output_type": "execute_result"
    }
   ],
   "source": [
    "# We provide official random split for training, validation and test\n",
    "print('Number of training examples:', len(qa_dataset.get_subset('train')))\n",
    "print('Number of validation examples:', len(qa_dataset.get_subset('val')))\n",
    "print('Number of test examples:', len(qa_dataset.get_subset('test')))\n",
    "\n",
    "# Alternatively, you can get the split indices\n",
    "qa_dataset.get_idx_split()"
   ]
  },
  {
   "cell_type": "markdown",
   "metadata": {},
   "source": [
    "### Load QA dataset - Human generated split"
   ]
  },
  {
   "cell_type": "code",
   "execution_count": 4,
   "metadata": {},
   "outputs": [
    {
     "name": "stdout",
     "output_type": "stream",
     "text": [
      "Use file from /workspace/.hf_home/hub/datasets--snap-stanford--stark/snapshots/88269e23e90587f99476c5dd74e235a0877e69be/qa/amazon/stark_qa/stark_qa_human_generated_eval.csv.\n"
     ]
    },
    {
     "data": {
      "text/plain": [
       "81"
      ]
     },
     "execution_count": 4,
     "metadata": {},
     "output_type": "execute_result"
    }
   ],
   "source": [
    "# We provide a human generated evaluation set\n",
    "qa_dataset_hg = load_qa(dataset_name, human_generated_eval=True)\n",
    "len(qa_dataset_hg)"
   ]
  },
  {
   "cell_type": "code",
   "execution_count": 5,
   "metadata": {},
   "outputs": [
    {
     "data": {
      "text/plain": [
       "{'human_generated_eval': tensor([ 0,  1,  2,  3,  4,  5,  6,  7,  8,  9, 10, 11, 12, 13, 14, 15, 16, 17,\n",
       "         18, 19, 20, 21, 22, 23, 24, 25, 26, 27, 28, 29, 30, 31, 32, 33, 34, 35,\n",
       "         36, 37, 38, 39, 40, 41, 42, 43, 44, 45, 46, 47, 48, 49, 50, 51, 52, 53,\n",
       "         54, 55, 56, 57, 58, 59, 60, 61, 62, 63, 64, 65, 66, 67, 68, 69, 70, 71,\n",
       "         72, 73, 74, 75, 76, 77, 78, 79, 80])}"
      ]
     },
     "execution_count": 5,
     "metadata": {},
     "output_type": "execute_result"
    }
   ],
   "source": [
    "qa_dataset_hg.get_idx_split()"
   ]
  },
  {
   "cell_type": "markdown",
   "metadata": {},
   "source": [
    "### Load Knowledge Base"
   ]
  },
  {
   "cell_type": "code",
   "execution_count": 6,
   "metadata": {},
   "outputs": [
    {
     "data": {
      "text/plain": [
       "[('brand', 'has_brand', 'product'),\n",
       " ('category', 'has_category', 'product'),\n",
       " ('color', 'has_color', 'product'),\n",
       " ('product', 'also_buy', 'product'),\n",
       " ('product', 'also_view', 'product'),\n",
       " ('product', 'has_brand', 'brand'),\n",
       " ('product', 'has_category', 'category'),\n",
       " ('product', 'has_color', 'color')]"
      ]
     },
     "execution_count": 6,
     "metadata": {},
     "output_type": "execute_result"
    }
   ],
   "source": [
    "# You can see part of the knowledge base schema here\n",
    "skb.get_tuples()"
   ]
  },
  {
   "cell_type": "code",
   "execution_count": 7,
   "metadata": {},
   "outputs": [
    {
     "data": {
      "text/plain": [
       "(['product', 'brand', 'category', 'color'],\n",
       " ['also_buy', 'also_view', 'has_brand', 'has_category', 'has_color'])"
      ]
     },
     "execution_count": 7,
     "metadata": {},
     "output_type": "execute_result"
    }
   ],
   "source": [
    "# Similarly, you can get the node and relation types \n",
    "skb.node_type_lst(), skb.rel_type_lst()"
   ]
  },
  {
   "cell_type": "code",
   "execution_count": 8,
   "metadata": {},
   "outputs": [
    {
     "name": "stdout",
     "output_type": "stream",
     "text": [
      "Number of nodes: 1035542\n",
      "Number of edges: 9443802\n"
     ]
    }
   ],
   "source": [
    "print('Number of nodes:', skb.num_nodes())\n",
    "print('Number of edges:', skb.num_edges())"
   ]
  },
  {
   "cell_type": "code",
   "execution_count": 9,
   "metadata": {},
   "outputs": [
    {
     "data": {
      "text/plain": [
       "{'product': ['title',\n",
       "  'dimensions',\n",
       "  'weight',\n",
       "  'description',\n",
       "  'features',\n",
       "  'reviews',\n",
       "  'Q&A'],\n",
       " 'brand': ['brand_name'],\n",
       " 'category': ['category_name'],\n",
       " 'color': ['color_name']}"
      ]
     },
     "execution_count": 9,
     "metadata": {},
     "output_type": "execute_result"
    }
   ],
   "source": [
    "# We include the attributes in node's textual information as part of the schema\n",
    "# Note that some nodes may not have all attributes while some may have additional attributes\n",
    "skb.node_attr_dict"
   ]
  },
  {
   "cell_type": "code",
   "execution_count": 10,
   "metadata": {},
   "outputs": [
    {
     "data": {
      "text/plain": [
       "['also_buy', 'also_view', 'has_brand', 'has_category', 'has_color']"
      ]
     },
     "execution_count": 10,
     "metadata": {},
     "output_type": "execute_result"
    }
   ],
   "source": [
    "skb.rel_type_lst()"
   ]
  },
  {
   "cell_type": "code",
   "execution_count": 11,
   "metadata": {},
   "outputs": [
    {
     "name": "stdout",
     "output_type": "stream",
     "text": [
      "- product: Lake Products THREE-in-One Knot Tying Tool Fly Fishing\n",
      "- brand: Lake\n",
      "- description: NEW & IMPROVED - Replaces the Two-in-One Knot Tying Tool - still ties many over 14 different knots, but now adds a magnetic hook threader; made of Delron and stainless steel; instruction book included.Precision machined contact firmly grips any fishing line, without causing damageUp and down spring action with stainless steel springThe body is manufactured of strong, lightweight Acetel Delrin for years of reliable serviceStainless Steel Shaft, head and loop will not rust or corrodeAttachment loop to clip onto clothing\n",
      "- features: \n",
      "#1: Precision machined contact firmly grips any fishing line, without causing damage\n",
      "#2: Up and down spring action with stainless steel spring\n",
      "#3: The body is manufactured of strong, lightweight Acetel Delrin for years of reliable service\n",
      "#4: Stainless Steel Shaft, head and loop will not rust or corrode\n",
      "#5: Attachment loop to clip onto clothing\n",
      "- reviews: \n",
      "#9:\n",
      "summary: Works Great\n",
      "text: \"Due to an injury, I have no finger dexterity in either hand and cannot feel the fishing line while holding it between my thumb and finger.  It would literally take me about 15 minutes to tie a hook or swivel to my line and was extremely frustrating. This tool allows me to tie the knot in 15 seconds. It really works well and I recommend it.\"\n",
      "#3:\n",
      "summary: It works\n",
      "text: \"I got this last night and decided to give it a try. Size 16 nymph, small tippet, no reading glasses (don't laugh, you'll get there), and light gloves. Threaded the fly and tied a cinch knot with no issues several times. It does a lot more, but this alone made it worth it. Ever tried tying on a fly with cold fingers or low light? The only downside is I wish there was a color difference in the v slot where the line threads in. Not a big enough deal to make a difference in opinion.\"\n",
      "#4:\n",
      "summary: Excellent\n",
      "text: \"There are three curses to advancing years: (1) Fingers shake a bit more, (2) eyes don't see the small stuff as well in low light, and (3) we're still as irresponsible as we ever were--can't seem to stop ourselves from doing something stupid like getting up at 3:30 am to stand freezing in a stream, fingers shaking and eyes blurring even more from the chill.\n",
      "\n",
      "But this nice little gadget lets me tie even #22 flies onto a leader with ease. (And I couldn't really tie those on even when I was 25!) Using this tool to thread the tiniest hook eyes onto a leader may sometimes take a little concentration (must use a leader size appropriate for the hook eye, after all), but threading isn't the main thing we need--invariably our problem is tying the knot itself, without crushing the hackle, burying the hook into our finger, or losing the fly in the river during the attempt to hand-tie the knot. With this tool, in 8 or 10 seconds a secure clinch knot is done. Zero chance of losing the fly, having to start over, or foul language. I now find it easy to make the decision whether to try a different fly, because changing flies costs me almost no fishing time.\n",
      "\n",
      "The tool ties securely to a cord on the vest and is just plain there when (constantly) needed. The knots are as clean & compact and good as a knot can be. One time I did not have this tool with me, and I lost 20 minutes of my last fishing hour changing flies a couple of times.\n",
      "\n",
      "As long as I can get the fly threaded (this thing does often help with that too, although no tool is perfect for the very smallest of hook eyes on a bushy fly), then with this tool the job of tying the knot is a done deal.\n",
      "\n",
      "Also, I've found that Lake Products is very responsive and has a great customer service ethic. They really stand behind their product. I'm very happy with this little gizmo.\n",
      "\n",
      "- Michael Vorhis\n",
      ".....Author of OPEN DISTANCE deep sea/aviation thriller\n",
      ".....Author of ARCHANGEL suspense thriller\n",
      ".....Fly fisherman\"\n",
      "#2:\n",
      "summary: Excellent tool. Does what it says.\n",
      "text: \"Hard to imagine an easier toot to use to tie Surgeon's Knots, Clinch and improved Climnch knots which are alll that I really need on a day to day basis. Its hook threader works like a charm for the size 16 midges i typically use.\"\n",
      "#6:\n",
      "summary: it works\n",
      "text: \"I have trouble seeing the sting at twilight due to my need for reading glasses ( which I use sunglass bifocals). THis product helps for threading hooks and tying knots.\"\n",
      "#86:\n",
      "summary: Consider alternatives\n",
      "text: \"This device is supposed to tie a variety of knots and help you thread small hooks.  The material quality seems good with the body made from a tough plastic (think cutting board) and the metal parts (including spring) made from stainless.  I already thought the price was unreasonably high and was more disappointed when I tried to thread size 18 flies with great difficulty.  The threader is no panacea for resolving this problem, but for slightly larger hooks, it seems to work ok.  It looks like someone removed the mold marks with a pocket knife and a power sander.  Smooth, but crude.\n",
      "\n",
      "While the knot tier works well for tying clinch knots, I found that a pair of forceps, especially ones with a curved tip actually work better, and you probably already have those in your tackle box.  There are several good YouTube videos on how to use them.\"\n",
      "#7:\n",
      "summary: It works\n",
      "text: \"Showed and impressed other fly club members. I got 2, one for rigging and one for changes on the water.\"\n",
      "#1:\n",
      "summary: Makes tying knots much easier.\n",
      "text: \"As a 68 year old my vision isn't as good as it was.  I use the improved clinch knot the most and using the tip to pull the tag end through your loop eliminates the need for my reading glasses.  Also tying nail or albright knots using the double slotted end is much easier.\"\n",
      "#8:\n",
      "summary: worthless for smaller hooks\n",
      "text: \"Took a chance based on other reviews, but this product is worthless when it comes to threading smaller hooks, particular down-turned eyes in sizes 16 or smaller.\"\n",
      "#26:\n",
      "summary: Great product\n",
      "text: \"Replaced a heavier brass tyer with this one and it works great. Before this product I had the brass tyer and a nail knot tool in my pack now I only have this one freeing up space hanging from a retracter. Don't hesitate to purchase one, you will not be disappointed\"\n",
      "#23:\n",
      "summary: Might be a great product, but there's a good chance you'll never ...\n",
      "text: \"Might be a great product, but there's a good chance you'll never know because of the poor instructions that are provided with the tool. The major issues here are the small sizes of the font and diagrams, which makes it next to impossible to decrypt. I looked for a pdf of the knot typing manual on the seller's website and there is none, only an instructional video for an additional $5 or the same replacement manual for $3. Instruction on the use an application of a new tool is 90% of its value, and the seller must do a better job at this.\"\n",
      "#67:\n",
      "summary: My favorite thing in my fishing kit\n",
      "text: \"Love this thing.  I have several of these for various tackle boxes.  I got this in the yellow color for when I put it down.  The booklet that comes with this is professional and easy to understand.  It is a great attention device as you are sitting in the doctor's office and practicing knot tying.  Fly fishing to whatever.\n",
      "Note: Fly fishing purists use this when no one is looking.\"\n",
      "#71:\n",
      "summary: Best invention ever.\n",
      "text: \"This tool is great. It speeds up my tying 100% and allows me to tie small flies on tiny tippets without much trouble. It definitely is worth every penny for an older man with arthritis and fading eyesight.\"\n",
      "#89:\n",
      "summary: Tool for Many Uses; Handy Item (Versatile)\n",
      "text: \"Although its not a solution for all problems encountered with threading lines through the eyes of hooks, flies, & lures, etc., the Lake Products 3-in-1 Knot Tying Tool has proven beneficial (for me) to carry it along each fishing outing.  There are some limitations to what it can help to accomplish.  For example, you cannot thread a line of large diameter through the eye of a smaller fly.  The 6X tippet or smaller diameters (7X, 8X, etc.) are required for the smaller flies.  Larger diameter tippets greater than 6X (5X, 4X, 3X, etc.) can be threaded into medium and large flies.  I was skeptical at first (and sometimes still don't accomplish all tasks that I would like to) but it has been tremendously helpful with knot tying as well.  Tying tippet-knots that create leader at the end of fly line is much simpler and quicker, and so is the knot thats needed once the line is threaded through the eye of the hook/fly.  The magnet that holds the fly is relatively strong to secure the fly while threading the eye.  Those who struggle with focusing (poor vision) will especially find it helpful.  Ive found it a worthwhile purchase and would recommend it to a friend.  At times, it has been my only method of achieving certain tasks.\"\n",
      "#88:\n",
      "summary: HANDY DANDY LAKE PRODUCT KNOT TYING TOOL\n",
      "text: \"all i can say about this product is its the best for old eyes and crooked hands. use it at least three times a week, would recommend\"\n",
      "#14:\n",
      "summary: Almost ready to give up on fly fishing.\n",
      "text: \"So I was fly-fishing on the river and nothing was biting. So I decided to try a different fly. AftER about five minutes of trying and messing with the fly threader I purchased on a auction site. I pulled the tippet up off of the thread to learn the tippet wasn't in the hook eye, and seeing my fly pop up and drop in the river. I just lost another $1.50 fly and that was my last one. So I decided to try this threader before I quit fly fishing. Not only has this threader work for me everytime. But it's also a knot tyer. So now I can change flies in about a minute, instead of the 20 minutes it did before. This thread has a ring to clip to my lanyard, or to my zinger for easy access. Wish I would have purchased years ago. I might have done more fishing! Yes! I would recommend this to anyone!\"\n",
      "#5:\n",
      "summary: Three in one tool.\n",
      "text: \"This tool is perfect for my failing eyesight and arthritic fingers.  Just what I needed.  The fisherman's magic wand for stiff and cold fingers\"\n",
      "#48:\n",
      "summary: Helpful but not perfect\n",
      "text: \"It's very helpful for 64-year-old hands that struggle with tiny tippet and leader, but the design of the tip could be better. It can get tangled in the tip as line/tippet are drawn through loops. Maybe I just need some more practice, but it's been a challenge.\"\n",
      "#45:\n",
      "summary: Good to have if you're having trouble seeing small things.\n",
      "text: \"Very easy to use - once you read the instructions.  Not intuitive but works as documented.  Getting older and eyesight is diminishing so I bought a second one as a spare.\"\n",
      "#92:\n",
      "summary: Attaching flies is now the easiest part.\n",
      "text: \"Bought one for myself and liked it so much I bought three more for my fishing buddies.  Makes threading a hook super easy, even on the smallest flies, and tying a clinch knot is a fast and foolproof.  The book comes with instructions for something like 15 knots, but realistically I'm only going to ever use two or three.  I used to use forceps to tie the knot, but I like how now I can use just one tool instead of a separate hook threader and my forceps.\"\n",
      "#93:\n",
      "summary: a must have for tying fishing knots!!!.\n",
      "text: \"I am very impressed with this fishing  knot tying tool and recommend it to all fishman to have and use.  It makes trying knots so much easier,  It is almost like having a extra finger.  If you ever tried tying a fishing knot and the instructions tell you to hold the line here and the tag line there, you know what I mean...\n",
      "I am giviing the s item 5 stars.\n",
      "Peter C\"\n",
      "#94:\n",
      "summary: Ease of use.\n",
      "text: \"Good quality; good price; easy to use.\"\n",
      "#95:\n",
      "summary: Five Stars\n",
      "text: \"Easy tool to use for the beginner or novice.\"\n",
      "#96:\n",
      "summary: ... HAVE USED A TIE-FAST FOR 30 YEARS--THIS IS A GREAT IMPROVEMENT--TAKES THE PLACE OF USING MY FORCEPS AND I'M ...\n",
      "text: \"I HAVE USED A TIE-FAST FOR 30 YEARS--THIS IS A GREAT IMPROVEMENT--TAKES THE PLACE OF USING MY FORCEPS AND I'M GROWING TO REALLY LIKE THIS TOOL\"\n",
      "#97:\n",
      "summary: Instructions in Eng;ish\n",
      "text: \"Comes with a 32 page book and an index to 14 knots all written in English. Can be used on any knot which you already tie with your teeth or any knot which requires reaching through and pulling. Magnetic threader works great on bare hooks but  not always on all flies with a lot of thread. Has grooves for nail knots. I especially like it for loops, like perfection loop and others.\"\n",
      "#98:\n",
      "summary: Loved them, but my grandson loved it also\n",
      "text: \"Already had two. Loved them, but my grandson loved it also. I ordered another for him.\"\n",
      "#99:\n",
      "summary: ties any knot you might need for fishing\n",
      "text: \"This should be in every fly fishermans vest. I usually have to carry eyeglasses in order to tie on flies but this little tool hasn't let me down yet. I have tied flies as small as #14 glow bugs  with no problems. You would think all that fuzzy yarn would make it hard to get the string through the eye but the magnet is strong and holds your fly secure and the line goes right through. then you can tie just about any knot you would need in just seconds. I showed my wife how to use it and she wants one for herself. Guess I will be ordering another one. You won't be disappointed with your purchase.\"\n",
      "- relations:\n",
      "  products also purchased: \n",
      "#1: BenchMaster Pocket Guide - Fly Fishing - Fishing\n",
      "#2: Rebel Lures Teeny Wee Crawfish Fishing Lure\n",
      "#3: Eagle Claw Featherlight 3/4 Line Weight Fly Rod, 2 Piece (Yellow, 6-Feet 6-Inch), 4/5 weight\n",
      "#4: Cortland 444 Classic Double Taper Floating Fly Line\n",
      "#5: Water Gremlin Gremlin Green/Tin Removable Split Shot Selector, 28ea/BB, 20ea/3/0, 8ea/7, 6ea/5\n",
      "#6: RIO Dacron Fly Line Backing\n",
      "#7: Zephr Wading Staff\n",
      "#8: Caddis Women's Attractive Teal Deluxe Breathable Stocking Foot Chest Wader\n",
      "#9: Loon Outdoors UV Wader Repair\n",
      "#10: RIO BRANDS Mainstream Trout Wf5f Lmn Grn\n",
      "#11: Rio Gold Fly Line\n",
      "#12: Loon Outdoors TOP RIDE, 2 oz.\n",
      "#13: Gehrke XINK Fly Pro Xink\n",
      "#14: Anglers Accessories Gehrke's Gink\n",
      "#15: Cliff Outdoors: Super Days Worth,One Color,One Size\n",
      "#16: Baker BSF65 6-1/2-Inch Straight Scissors/Forceps\n",
      "#17: Echo Micro Practice Rod\n",
      "#18: Hammers Collapsible Wading Staff Fishing Stick, Black\n",
      "#19: Daiwa Sokkou Knot Tool by Daiwa\n",
      "#20: Scienfific Anglers Fly Line Dressing Cleaner-1 Cleaning Pad\n",
      "#21: Dubbing Spinner Set with Hair Packer\n",
      "#22: FISHPOND - Floatant Bottle Holder\n",
      "#23: Maxima Fishing Line Leader Tying Kits, Chameleon\n",
      "#24: The Knotter HBK Fishing Knotter\n",
      "#25: Dr. Slick Lanyard\n",
      "#26: Rio Gold Fly Line\n",
      "#27: 20/20 Magnetic Tippet Threader\n",
      "#28: Tight Line Enterprises Fishing Rod Racks for Vehicles (Truck or SUV) - Magnets For Metal Hoods Only and/or Vacuum Cups For All Metal/Non Metal Hood Types\n",
      "#29: Tie-Fast Knot Tyer\n",
      "#30: Waterworks Lamson Ketchum Release\n",
      "#31: Ty-Rite Hook Holder - Standard size\n",
      "#32: Loon Outdoors Deep Soft Weight Putty\n",
      "#33: Frog's Fanny Dry Fly Powder - Fly Fishing\n",
      "#34: Dr. Slick Rotary Hackle Plier\n",
      "#35: Dr. Slick Mitten Scissor Clamps\n",
      "#36: Dr. Slick Scissor Clamps\n",
      "#37: Orvis Scissors Forceps, Silver\n",
      "#38: Carlson Tackle Buddy Spinner Holder\n",
      "#39: Ringneck Pheasant Skin\n",
      "#40: Orvis Non-toxic Oval Shot\n",
      "#41: FishPond PIOPOD Fly Fishing Clip On Container (PIO POD)\n",
      "#42: Barnsley 100 Assorted Dry and Nymph Fly Fishing Flies\n",
      "#43: FishPond 360 Swivel Retractor Zinger Fly Fishing Tool Holder\n",
      "#44: Umpqua TMC Shimazaki Dry Shake dun\n",
      "#45: QTY 4 NEW Locking Surgical Hemostat Fishing Hand TooL\n",
      "#46: Redington Skagit River Wading Boot Sticky Rubber\n",
      "#47: Orvis Gear Keeper Net Retractor\n",
      "#48: Orvis Eye Tie Fly Threader\n",
      "#49: Fishpond Dry Shake Bottle Holder - Assorted Webbing\n",
      "#50: Orvis Nail Knotter Tool\n",
      "#51: Measure Net - Medium Rubber\n",
      "#52: Wild Water Deluxe 5/6 9’ Rod Fly Fishing Complete Starter Package\n",
      "#53: Caddis 3-Inch Black Deluxe Wading Belt\n",
      "#54: Caddis Black Neoprene Bootie with Gravel Guards\n",
      "#55: Rising 90 Degree Fly Fishing Tweezers\n",
      "#56: Uxcell a11081700ux0041 Traveling 9 Sections Telescopic Pole Fishing Fisherman Tool Rod 2.5M Orange\n",
      "#57: Rio Powerflex Trout Leaders, 9 Foot, 3 Pack\n",
      "#58: Rio Powerflex Trout Leaders, 9 Foot, 3 Pack\n",
      "#59: Redington Rod Case\n",
      "#60: Rio Powerflex Trout Leaders, 9 Foot, 3 Pack\n",
      "#61: Rio Powerflex Trout Leaders, 9 Foot, 3 Pack\n",
      "#62: BW Sports Leader Wallet, Ultimate Tapered Leader Storage, 9 Pockets, 5 Clear Pockets Quick Easy Access, Simple\n",
      "#63: Dr. Slick Scissor Clamp, 5-1/2\", Prism Finish, Straight, 1/2\n",
      "#64: Wright & McGill Midge with Fly Pik Tool\n",
      "#65: Nymph Fly Collection - 12 Trout Flies + Fly Box\n",
      "#66: Orvis JAM- Stop THINGAMABOBBER Strike Indicator (2 Sizes: 3/4\" & 1/2\") Packed 5 per Unit.\n",
      "#67: Grasshopper Outdoor Products Monomaster, Mushroom\n",
      "#68: Loon Outdoors Graffitolin Ferrule Wax\n",
      "#69: Loon Outdoors Lochsa Floatant\n",
      "#70: Thames Mucilin Red Can Fly Fishing Line and Fly Floatant Paste Dressing\n",
      "#71: Anglers Accessories Mojo Mud Non-Toxic Tungsten Putty - Fly Fishing\n",
      "#72: Eagle Claw Lake and Stream Dial Box Popper Assortment\n",
      "#73: Anglers Engineering Skip?s Turn-On Strike Indicators/LG\n",
      "#74: Fly Rite Fly-Rite Stomach Pump\n",
      "#75: Anglers Accessories Fly Rod Holder\n",
      "#76: Redington Wader Spikes - Goat Head\n",
      "#77: SF Fly Fishing Anglers Vest Pack Tool Gear Assortment\n",
      "#78: Orvis Neoprene Wet Wading Guard Socks/Only Neoprene Guard Sock\n",
      "#79: Fly Box--Large Fishing \"Go To\" Fly Box with Swing Leaf Center\n",
      "#80: SF Fly Fishing Knot Tyer EZ Tie Tool Combo Knot Tying Tool\n",
      "#81: Eagle Claw W&M Streamside Lanyard\n",
      "#82: Strike Indicator New Zealand Tool\n",
      "#83: EZ Tie Blood Knot Tying Tool\n",
      "#84: FlyDeal Fishing Flies Top Selling Flies - Guide's TOP Assortment - WOOLLY BUGGERS (32 flies)\n",
      "#85: FlyDeal Fishing Flies Top Selling Flies - Guide's TOP Assortment - DRY FLIES (36 flies)\n",
      "#86: Next Generation Flies - NYMPH-HEAD Assortment (24 flies)\n",
      "#87: Mountain Cork Angler Series\n",
      "#88: Orvis Black Nickel Zinger/Only Pin-on\n",
      "#89: Orvis Black Nickel Zinger/Only Clip-on\n",
      "#90: Rio Fly Fishing Leader Wallet Fishing Tackle Boxes\n",
      "#91: Duncan Tailknottr Fishing Knot tying Tool\n",
      "#92: Sand Box E-Z Knot Black Fishing Line Tying Tool\n",
      "#93: SF Fly Fishing Landing Net Soft Rubber Mesh Trout Net Catch and Release Net\n",
      "#94: Top Water Deer Hair Fly Assortment with Large 6 Section Clear Fly Box\n",
      "#95: LILLIAN for Tenkara Rods 24 Inch Length by FTUSA $4.00\n",
      "#96: Sage Fly Fishing Ballistic Reel Case Single 9' (Piece 4) Rod, 2\", Black\n",
      "#97: Yellowstone Fly Goods Fly Agra Floatant\n",
      "#98: Adamsbuilt Dry Fly Desiccant\n",
      "#99: Fishpond Nomad Fly Fishing Carbon Fiber & Fiberglass composite Hand Net\n",
      "#100: SF 2 in 1 Fly Fishing Angler Accessories Knot Tying Tool Knot Tyer\n",
      "#101: Orvis Clearwater Fly Rod Outfit 905-4 - 5wt 9ft 0in 4pc\n",
      "#102: Stonfo Elite Disc Drag Bobbin, One Size\n",
      "#103: Smith Creek Rod Clip, Wearable Fishing Rod Holder\n",
      "#104: G. Loomis NRX Trout Fly Fishing Rods\n",
      "#105: New Zealand Strike Indicator Tubing\n",
      "#106: C&F Design CF-602/S Spare Threaders Midge size/Short\n",
      "#107: C&F Design CF-604/S Spare Threaders Ultra Midge/Short\n",
      "#108: SF Strongest Magnetic Net Release Magnet Clip Holder Retractor with Cord 12 LB\n",
      "#109: Tenkara Fly Fishing Fluorocarbon Level Line 3.5 Orange - 20 Meters\n",
      "#110: Tenkara USA Set of 12 Tenkara Flies in Fly Box\n",
      "#111: Tenkara USA Kit With: Keeper, Segment of Line, 3 Flies, Forceps Nippers, Booklet\n",
      "#112: Fishpond Slippery Rock Fly Fishing Wading Staff Walking Stick Pro - Alpine Green\n",
      "#113: Frogg Toggs Pilot II Breathable Stockingfoot Guide Pant\n",
      "#114: Tenkara Sato Fly Fishing Rod Multi-Size Telescopic (10'8\", 11'10\", 12'9\")\n",
      "#115: The Fly Fishing Place Trout Fly Assortment - San Juan Worm Power Bead 1 Dozen Wet Nymph Fly Fishing Flies - Hook Size 10-3 Each of 4 Patterns\n",
      "#116: Boomerang Fishing Zinger Duo, 36 inch Nylon Cord, Split Ring, Clip Attachment\n",
      "#117: DRAGONtail Tenkara EVA Tenkara Line Holders (6 Pack)\n",
      "#118: Flies Direct Waterproof Fly Box\n",
      "#119: Orvis Clearwater 4-weight, 8'6\" Fly Rod Outfit\n",
      "#120: Smith Creek Rig Keeper - Dropper Rig System\n",
      "#121: TWO TENKARA EZ LINE KEEPERS by FTUSA® TWO for $4.95\n",
      "#122: Polarized Bifocal Sunglasses by Ideal Eyewear - Sun Readers with Retention Cord\n",
      "#123: Polarized Bifocal Sunglasses by Ideal Eyewear - Sun Readers with Retention Cord\n",
      "#124: Allen Company Big Horn Fishing Vest, Olive\n",
      "#125: Allen Company Fishing Reel Bag, Olive, Willow Creek\n",
      "#126: Allen Platte River Fishing Gear Bag, Olive, fly fishing gear bag\n",
      "#127: Allen Beaverhead Fishing Waders Bag, Olive\n",
      "#128: Allen Boulder Creek Fishing Chest Pack, Olive\n",
      "#129: DRAGONtail Tenkara Shadowfire 360 12' Tenkara Fly Fishing Rod\n",
      "#130: RIO InTouch Xtreme Indicator Fly Line\n",
      "#131: Koehler Industries ::: Knot Tying Tools\n",
      "#132: Loon Outdoors RIGGING FOAM (3 PACK)\n",
      "#133: TroutHunter Fluorocarbon Leader\n",
      "#134: Kingfisher Foam Fly Patch with Vest Clip\n",
      "#135: Orvis Dropper Rig Fly Box\n",
      "#136: Orvis Silver Sonic Waterproof Pocket\n",
      "#137: TYEPRO Fishing Knot Tying Tool\n",
      "#138: Scientific Anglers 4012791 Groove Practice Fly Rod\n",
      "#139: TYEPRO Fly & Ice Fishing Tool\n",
      "#140: Barnsley Fly Box + 100 Assorted Fly Fishing Fly Kit\n",
      "#141: Anglatech Fly Fishing Backpack Vest Combo Chest Pack for Tackle Gear and Accessories, Includes Water Bladder, Adjustable Size for Men and Women\n",
      "#142: Anglatech Fly Fishing Vest Pack for Trout Fishing Gear and Equipment, Adjustable Size for Men and Women\n",
      "#143: Orvis Safe Passage Guide Sling Pack\n",
      "#144: Aventik High Grade10 Pockets Fly Fishing Leader Wallet Leader Case Tippet Storage for Fly Fishing\n",
      "#145: AventikINT Fly Fishing Snap 25pcs/Bag Quick Change Fishing Snaps Stainless Steel, Size S, M, L, Fast Easy & Secure, Hook Snaps for Flies Jigs Lures Great Value Pack\n",
      "#146: FishPond Confluence Net Release - Fly Fishing\n",
      "#147: Anglers Accessories Fly Snare Hook Holder - Midge size\n",
      "#148: FishPond Headgate Tippet Holder\n",
      "#149: Yoshikawa Dr.Fish Fishing Weights Quick Rig Rolling Swivel with Interlock Snap Bullet Lead Sinker Connector Inline Carolina Ready Rig 3/10-1/2oz (Pack of 10)\n",
      "#150: Tacky Fishing Tacky Day Pack Clear/Blue\n",
      "#151: Outdoor Planet Assorted Trout Fly Fishing Lure Pack of 10/12/15/28/35/48/66 Pieces Fly Lure + Double Side Waterproof Pocketed Fly Box\n",
      "#152: Bozeman FlyWorks 5 Pack - Fly Fishing Tapered Leaders - 9' 7.5' 12'\n",
      "#153: SF Fly Fishing Anglers Vest Pack Tool Gear Assortment\n",
      "#154: SAMSFX Fly Fishing Nylon Cord Zinger Retractor Retractable Carabiner Badge Holder\n",
      "#155: DRAGONtail Tenkara KOMODO Zoom 10.5' 9' Tenkara Fly Fishing Rod\n",
      "#156: New Zealand Strike Indicator Combo Pack\n",
      "#157: SAMSFX Fishing Quick Nail Knot Tying Tool Copper Rivet with Zinger Retractor\n",
      "#158: SAMS Retractable Key Chain Reel Badge Holder Fly Fishing Zinger Retractor with Quick Release Spring Clip, 2pcs Packed\n",
      "#159: Fishing Rod Wall Rack - Ultra Sturdy Strong Weatherproof Holds 3 Rods - Space Saving Organizer for Hiking Poles, Ski Poles, Hokey Sticks and Fishing Rods\n",
      "#160: M MAXIMUMCATCH Maxcatch Fly Fishing Vest Pack (Fishing Vest/Fishing Sling Pack/Fishing Backpack)\n",
      "#161: Stainless Cable Zinger 1 Pair\n",
      "#162: SF Fly Fishing Reel Case Pouch Cover Fit 3/4 5/6 7/8 wt\n",
      "#163: Redington Hydrogen Fly Rod\n",
      "#164: Rio Brands RIO InTouch Single Hand Spey Fly Line\n",
      "#165: Redington Willow River Boot\n",
      "#166: Redington Women's Willow River Waders\n",
      "#167: Umpqua Overlook 500 ZS Fly Fishing Chest Pack\n",
      "#168: RIO Powerflex Fly Fishing Line Multi Weight Tippet 3Pack 30 Yard Spools\n",
      "#169: 55 Yards Bozeman FlyWorks Fluorocarbon Tippet\n",
      "#170: Korkers Greenback Wading Boot with Felt & Kling-On Soles\n",
      "#171: SAMSFX 2Pcs x Plastic Hook Disgorger Set Hook Remover, Fishing Line Tying Tool Hook Tier Loop Tyer & Disgorger, Hair Rig Rigging Bait Needle\n",
      "#172: RIO Powerflex Plus Tapered Leader - 2-Pack\n",
      "#173: Rio Fly Fishing Euro Nymph with Tippet Ring Fishing Leaders, Clear\n",
      "#174: Fly Fishing Set: Rubber Mesh Net, Magnetic Release\n",
      "#175: Magnetic Net Release for Fly Fishing\n",
      "#176: The Fly Fishing Place Slumpbuster Bouface Bunny Streamer Flies Collection - Set of 8 Big Bass and Trout Cone Head and Bead Head Fly Fishing Wet Flies - Hook Sizes 4 and 6\n",
      "#177: Magnifeye Hook Threader - Thread Small Fishing Hooks Easy\n",
      "#178: Wild Water 3 wt 5’6” Rod Fly Fishing Complete Starter Package\n",
      "#179: Scientific Anglers Premium Nylon Leaders (2 Pack)\n",
      "#180: Scientific Anglers Nylon Interlocking Tippet Spool with Cutter\n",
      "#181: Umpqua Fly Fishing Rivergrip Nipper\n",
      "#182: Umpqua Fly Fishing Amadou Dry Fly Patch\n",
      "#183: Umpqua Fly Fishing Rivergrip Hemostat Forcep\n",
      "#184: Allen Spruce Creek Fishing Wader Bag, Olive\n",
      "#185: AirLock 1/2\" 3-PACK CLEAR INDICATOR\n",
      "#186: M MAXIMUMCATCH Maxcatch Tenkara Rod Combo Complete Kit 11/12/13ft(Telescoping Carbon Tenkara Rod, Carry Case, Line, Tippet, Flies, Line Nipper, Hook Keepers)\n",
      "#187: SAMSFX Fishing Anglers Vest Pack Tool Gear Assortment Combo Tool Kit\n",
      "#188: Piscifun Platte Fully Sealed Drag Large Arbor Fly Fishing Reel with CNC-machined Aluminum Alloy Body 3/4, 5/6, 7/8, 9/10 (Gunmetal,Black,Ice Blue)\n",
      "#189: M MAXIMUMCATCH Maxcatch Fly Fishing Leader Wallet with Tapered Leader\n",
      "#190: Orvis Superstrong Plus Nylon Tippet 30M Spool\n",
      "#191: Orvis Safe Passage Rod/Reel Case / Only Single Case\n",
      "#192: Rio Euro Nymph Leader - 2 Pack\n",
      "#193: M MAXIMUMCATCH Maxcatch Sinking Tip Fly Line for Fly Fishing Weight Forward Line, 3ips/6ips, 4/5/6/7/8 F/S\n",
      "#194: M MAXIMUMCATCH Maxcatch Sinking Tip Fly Line for Fly Fishing Weight Forward Line, 3ips/6ips, 4/5/6/7/8 F/S\n",
      "#195: Rising Big Nippa Fly Fishing Nipper\n",
      "#196: Yosoo Aluminum Alloy Fishing Hook Fishing Line Tool Manual Knot Tying Tool Sub-line Knot-Tying Tool Fish Tool Hook Tie Device Strand Knotter\n",
      "#197: Andux 12pcs/Set Fly Fishing Float Drift Float Indicators Foam Streams Drift Hook Positioning Floats 12 Pack Foam Strike Indicators FDFP-01 (Color is Random)\n",
      "#198: Rio Indicator Leader 10ft, 3 Pack\n",
      "#199: M MAXIMUMCATCH Tino Fly Fishing Reel, Large Arbor Trout Fly Reel: 5/6,7/8 Weight\n",
      "#200: 12 Killer Bug Flies - Tenkara Flies\n",
      "#201: M MAXIMUMCATCH Maxcatch Ultra-lite Fly Rod for Streams Panfish/Trout Fishing 1/2/3 Weight\n",
      "  products also viewed: \n",
      "#1: Loon Outdoors UV Knot Sense\n",
      "#2: Orvis Tie-fast Knot-tying Tool\n",
      "#3: Umpqua Nylon Tippet Spools\n",
      "#4: Umpqua Nylon Tippet Spools\n",
      "#5: Stonfo Pinza Elite Hackle Plier - Original\n",
      "#6: Smith Creek Spent Line Wrangler, Green\n",
      "#7: Flies Direct Royal Wulff Assortment Trout Fishing Flies (1-Dozen)\n",
      "#8: C&F Design CFA-11 3-in-1 Nail Knot Fly Fishing Tool\n",
      "#9: C&F Design CF-602 Spare Threaders Midge size/Regular\n",
      "#10: C&F Design CFA-40 3-in-1 Tweezers\n",
      "#11: SF Plastic Waterproof Fly Fishing Box Double Side Clear Lid\n",
      "#12: Andux Fly Fishing Tie Fast Knot Tyer Tool Fly Tying F-DJQ01\n",
      "#13: Partridge Tippet Rings (ATR)\n",
      "#14: HOOK-EZE Fishing Hook, Swivel, Line, Safety Tying Device, Line Cutter & More\n",
      "#15: Signstek Marine Fishing Knotter / FG GT RP Line Wire Connector / Cable Connector\n",
      "#16: Flip Focal Magnifier Lens\n",
      "#17: SAMSFX FISHING Line Clippers Nippers Tools Combo with Fly Zinger Retractor\n",
      "#18: Fishing Hook Fishing Line Knotter Aluminum Alloy Fishing Hook Fishing Line Tool Manual Knot Tying Tool Sub-line Knot-Tying Tool Fish Tool Hook Tie Device Strand Knotter\n",
      "#19: The Threader - Hook & Needle Threader with line cutter & knife sharpener.\n",
      "#20: Hook-Eze Fishing Tool - 3 Twin Packs - Hook Tying & Safety Device + Line Cutter - Tie Swivels - Cover 6 Fishing Poles - Arthritic Disability Saltwater Freshwater Hook Remover\n",
      "  brand: Lake\n",
      "\n"
     ]
    }
   ],
   "source": [
    "# Each node has textual information\n",
    "print(skb.get_doc_info(answer_ids[0], add_rel=True))"
   ]
  },
  {
   "cell_type": "code",
   "execution_count": 12,
   "metadata": {},
   "outputs": [
    {
     "name": "stdout",
     "output_type": "stream",
     "text": [
      "The neighbors of the answer node are: 222\n"
     ]
    }
   ],
   "source": [
    "# Each node can be linked to other nodes\n",
    "neighbor_lst = skb.get_neighbor_nodes(answer_ids[0], edge_type='*')\n",
    "print('The neighbors of the answer node are:', len(neighbor_lst))"
   ]
  },
  {
   "cell_type": "code",
   "execution_count": 13,
   "metadata": {},
   "outputs": [
    {
     "name": "stdout",
     "output_type": "stream",
     "text": [
      "- relations:\n",
      "  products also purchased: \n",
      "#1: BenchMaster Pocket Guide - Fly Fishing - Fishing\n",
      "#2: Rebel Lures Teeny Wee Crawfish Fishing Lure\n",
      "#3: Eagle Claw Featherlight 3/4 Line Weight Fly Rod, 2 Piece (Yellow, 6-Feet 6-Inch), 4/5 weight\n",
      "#4: Cortland 444 Classic Double Taper Floating Fly Line\n",
      "#5: Water Gremlin Gremlin Green/Tin Removable Split Shot Selector, 28ea/BB, 20ea/3/0, 8ea/7, 6ea/5\n",
      "  products also viewed: \n",
      "#1: Loon Outdoors UV Knot Sense\n",
      "#2: Orvis Tie-fast Knot-tying Tool\n",
      "#3: Umpqua Nylon Tippet Spools\n",
      "#4: Umpqua Nylon Tippet Spools\n",
      "#5: Stonfo Pinza Elite Hackle Plier - Original\n",
      "  brand: Lake\n",
      "\n"
     ]
    }
   ],
   "source": [
    "# You can textualize the relation information\n",
    "print(skb.get_rel_info(answer_ids[0], n_rel=5))"
   ]
  },
  {
   "cell_type": "code",
   "execution_count": 14,
   "metadata": {},
   "outputs": [
    {
     "name": "stdout",
     "output_type": "stream",
     "text": [
      "Counter({'product': 221, 'brand': 1})\n"
     ]
    }
   ],
   "source": [
    "# Count the number of each type\n",
    "from collections import Counter\n",
    "neighbor_types = [skb.get_node_type_by_id(neighbor) for neighbor in neighbor_lst]\n",
    "print(Counter(neighbor_types))"
   ]
  },
  {
   "cell_type": "markdown",
   "metadata": {},
   "source": [
    "### Take PrimeKG as another example"
   ]
  },
  {
   "cell_type": "code",
   "execution_count": 15,
   "metadata": {},
   "outputs": [
    {
     "name": "stdout",
     "output_type": "stream",
     "text": [
      "Use file from /workspace/.hf_home/hub/datasets--snap-stanford--stark/snapshots/88269e23e90587f99476c5dd74e235a0877e69be/qa/prime/stark_qa/stark_qa_human_generated_eval.csv.\n",
      "Loading from /workspace/.hf_home/hub/datasets--snap-stanford--stark/snapshots/88269e23e90587f99476c5dd74e235a0877e69be/skb/prime/processed!\n"
     ]
    }
   ],
   "source": [
    "from stark_qa import load_qa, load_skb\n",
    "dataset_name = 'prime'\n",
    "\n",
    "qa_dataset = load_qa(dataset_name)\n",
    "skb = load_skb(dataset_name, download_processed=True)"
   ]
  },
  {
   "cell_type": "code",
   "execution_count": 16,
   "metadata": {},
   "outputs": [
    {
     "name": "stdout",
     "output_type": "stream",
     "text": [
      "Use file from /workspace/.hf_home/hub/datasets--snap-stanford--stark/snapshots/88269e23e90587f99476c5dd74e235a0877e69be/qa/prime/stark_qa/stark_qa_human_generated_eval.csv.\n"
     ]
    },
    {
     "data": {
      "text/plain": [
       "98"
      ]
     },
     "execution_count": 16,
     "metadata": {},
     "output_type": "execute_result"
    }
   ],
   "source": [
    "qa_dataset_hg = load_qa(dataset_name, human_generated_eval=True)\n",
    "len(qa_dataset_hg)"
   ]
  },
  {
   "cell_type": "code",
   "execution_count": 17,
   "metadata": {},
   "outputs": [
    {
     "data": {
      "text/plain": [
       "(129375, 8100498)"
      ]
     },
     "execution_count": 17,
     "metadata": {},
     "output_type": "execute_result"
    }
   ],
   "source": [
    "skb.num_nodes(), skb.num_edges()"
   ]
  },
  {
   "cell_type": "code",
   "execution_count": 18,
   "metadata": {},
   "outputs": [
    {
     "data": {
      "text/plain": [
       "('What drugs target the CYP3A4 enzyme and are used to treat strongyloidiasis?',\n",
       " 1,\n",
       " [15450],\n",
       " None)"
      ]
     },
     "execution_count": 18,
     "metadata": {},
     "output_type": "execute_result"
    }
   ],
   "source": [
    "qa_dataset[1]"
   ]
  },
  {
   "cell_type": "code",
   "execution_count": 19,
   "metadata": {},
   "outputs": [
    {
     "name": "stdout",
     "output_type": "stream",
     "text": [
      "- name: Ivermectin\n",
      "- type: drug\n",
      "- source: DrugBank\n",
      "- details:\n",
      "  - description: Ivermectin is a broad-spectrum anti-parasite medication. It was first marketed under the name Stromectol® and used against worms (except tapeworms), but, in 2012, it was approved for the topical treatment of head lice infestations in patients 6 months of age and older, and marketed under the name Sklice™ as well. Ivermectin is mainly used in humans in the treatment of onchocerciasis, but is also effective against other worm infestations (such as strongyloidiasis, ascariasis, trichuriasis and enterobiasis).\n",
      "  - half_life: 16 hours (also reported at 22-28 hours)\n",
      "  - indication: For the treatment of intestinal (i.e., nondisseminated) strongyloidiasis due to the nematode parasite <i>Strongyloides stercoralis</i>. Also for the treatment of onchocerciasis (river blindness) due to the nematode parasite <i>Onchocerca volvulus</i>. Can be used to treat scabies caused by <i>Sarcoptes scabiei</i>.\n",
      "  - mechanism_of_action: Ivermectin binds selectively and with high affinity to glutamate-gated chloride ion channels in invertebrate muscle and nerve cells of the microfilaria. This binding causes an increase in the permeability of the cell membrane to chloride ions and results in hyperpolarization of the cell, leading to paralysis and death of the parasite. Ivermectin also is believed to act as an agonist of the neurotransmitter gamma-aminobutyric acid (GABA), thereby disrupting GABA-mediated central nervous system (CNS) neurosynaptic transmission. Ivermectin may also impair normal intrauterine development of O. volvulus microfilariae and may inhibit their release from the uteri of gravid female worms.\n",
      "  - protein_binding: 93%\n",
      "  - pharmacodynamics: Ivermectin is a semisynthetic, anthelminitic agent. It is an avermectin which a group of pentacyclic sixteen-membered lactone (i.e. a macrocyclic lactone disaccharide) derived from the soil bacterium Streptomyces avermitilis. Avermectins are potent anti-parasitic agents. Ivermectin is the most common avermectin. It is a broad spectrum antiparasitic drug for oral administration. It is sometimes used to treat human onchocerciasis (river blindness). It is the mixture of 22,23-dihydro-avermectin B1a (at least 90%) and 22,23-dihydro-avermectin B1b (less than 10%).\n",
      "  - state: Ivermectin is a solid.\n",
      "  - atc_1: Ivermectin is anatomically related to antiparasitic products, insecticides and repellents and dermatologicals.\n",
      "  - atc_2: Ivermectin is in the therapeutic group of anthelmintics and other dermatological preparations.\n",
      "  - atc_3: Ivermectin is pharmacologically related to antinematodal agents and other dermatological preparations.\n",
      "  - atc_4: The chemical and functional group of  is avermectines and other dermatologicals.\n",
      "  - category: Ivermectin is part of Agents Causing Muscle Toxicity ; Agrochemicals ; Anthelmintics ; Anti-Bacterial Agents ; Anti-Infective Agents ; Antinematodal Agents ; Antiparasitic Agents ; Antiparasitic Products, Insecticides and Repellents ; Avermectines ; BCRP/ABCG2 Substrates ; Compounds used in a research, industrial, or household setting ; Cytochrome P-450 CYP3A Inducers ; Cytochrome P-450 CYP3A Inhibitors ; Cytochrome P-450 CYP3A Substrates ; Cytochrome P-450 CYP3A4 Inducers ; Cytochrome P-450 CYP3A4 Inducers (strength unknown) ; Cytochrome P-450 CYP3A4 Substrates ; Cytochrome P-450 Enzyme Inducers ; Cytochrome P-450 Enzyme Inhibitors ; Cytochrome P-450 Substrates ; Dermatologicals ; Insecticides ; Lactones ; OATP1B1/SLCO1B1 Inhibitors ; OATP1B3 inhibitors ; P-glycoprotein inducers ; P-glycoprotein inhibitors ; P-glycoprotein substrates ; Pediculicides ; Pesticides ; Polyketides ; Scabicides and Pediculicides ; Toxic Actions.\n",
      "  - group: Ivermectin is approved and investigational and vet_approved.\n",
      "  - molecular_weight: The molecular weight is 1736.18.\n",
      "\n"
     ]
    }
   ],
   "source": [
    "print(skb.get_doc_info(15450, add_rel=False))"
   ]
  },
  {
   "cell_type": "code",
   "execution_count": 20,
   "metadata": {},
   "outputs": [
    {
     "name": "stdout",
     "output_type": "stream",
     "text": [
      "- name: Ivermectin\n",
      "- type: drug\n",
      "- source: DrugBank\n",
      "- details:\n",
      "  - description: Ivermectin is a broad-spectrum anti-parasite medication. It was first marketed under the name Stromectol® and used against worms (except tapeworms), but, in 2012, it was approved for the topical treatment of head lice infestations in patients 6 months of age and older, and marketed under the name Sklice™ as well. Ivermectin is mainly used in humans in the treatment of onchocerciasis, but is also effective against other worm infestations (such as strongyloidiasis, ascariasis, trichuriasis and enterobiasis).\n",
      "  - half_life: 16 hours (also reported at 22-28 hours)\n",
      "  - indication: For the treatment of intestinal (i.e., nondisseminated) strongyloidiasis due to the nematode parasite <i>Strongyloides stercoralis</i>. Also for the treatment of onchocerciasis (river blindness) due to the nematode parasite <i>Onchocerca volvulus</i>. Can be used to treat scabies caused by <i>Sarcoptes scabiei</i>.\n",
      "  - mechanism_of_action: Ivermectin binds selectively and with high affinity to glutamate-gated chloride ion channels in invertebrate muscle and nerve cells of the microfilaria. This binding causes an increase in the permeability of the cell membrane to chloride ions and results in hyperpolarization of the cell, leading to paralysis and death of the parasite. Ivermectin also is believed to act as an agonist of the neurotransmitter gamma-aminobutyric acid (GABA), thereby disrupting GABA-mediated central nervous system (CNS) neurosynaptic transmission. Ivermectin may also impair normal intrauterine development of O. volvulus microfilariae and may inhibit their release from the uteri of gravid female worms.\n",
      "  - protein_binding: 93%\n",
      "  - pharmacodynamics: Ivermectin is a semisynthetic, anthelminitic agent. It is an avermectin which a group of pentacyclic sixteen-membered lactone (i.e. a macrocyclic lactone disaccharide) derived from the soil bacterium Streptomyces avermitilis. Avermectins are potent anti-parasitic agents. Ivermectin is the most common avermectin. It is a broad spectrum antiparasitic drug for oral administration. It is sometimes used to treat human onchocerciasis (river blindness). It is the mixture of 22,23-dihydro-avermectin B1a (at least 90%) and 22,23-dihydro-avermectin B1b (less than 10%).\n",
      "  - state: Ivermectin is a solid.\n",
      "  - atc_1: Ivermectin is anatomically related to antiparasitic products, insecticides and repellents and dermatologicals.\n",
      "  - atc_2: Ivermectin is in the therapeutic group of anthelmintics and other dermatological preparations.\n",
      "  - atc_3: Ivermectin is pharmacologically related to antinematodal agents and other dermatological preparations.\n",
      "  - atc_4: The chemical and functional group of  is avermectines and other dermatologicals.\n",
      "  - category: Ivermectin is part of Agents Causing Muscle Toxicity ; Agrochemicals ; Anthelmintics ; Anti-Bacterial Agents ; Anti-Infective Agents ; Antinematodal Agents ; Antiparasitic Agents ; Antiparasitic Products, Insecticides and Repellents ; Avermectines ; BCRP/ABCG2 Substrates ; Compounds used in a research, industrial, or household setting ; Cytochrome P-450 CYP3A Inducers ; Cytochrome P-450 CYP3A Inhibitors ; Cytochrome P-450 CYP3A Substrates ; Cytochrome P-450 CYP3A4 Inducers ; Cytochrome P-450 CYP3A4 Inducers (strength unknown) ; Cytochrome P-450 CYP3A4 Substrates ; Cytochrome P-450 Enzyme Inducers ; Cytochrome P-450 Enzyme Inhibitors ; Cytochrome P-450 Substrates ; Dermatologicals ; Insecticides ; Lactones ; OATP1B1/SLCO1B1 Inhibitors ; OATP1B3 inhibitors ; P-glycoprotein inducers ; P-glycoprotein inhibitors ; P-glycoprotein substrates ; Pediculicides ; Pesticides ; Polyketides ; Scabicides and Pediculicides ; Toxic Actions.\n",
      "  - group: Ivermectin is approved and investigational and vet_approved.\n",
      "  - molecular_weight: The molecular weight is 1736.18.\n",
      "\n"
     ]
    }
   ],
   "source": [
    "print(skb.get_doc_info(15450, add_rel=False))"
   ]
  },
  {
   "cell_type": "code",
   "execution_count": 21,
   "metadata": {},
   "outputs": [
    {
     "name": "stdout",
     "output_type": "stream",
     "text": [
      "- relations:\n",
      "  enzyme: {gene/protein: (CYP3A4),}\n",
      "  target: {gene/protein: (GABRB3, GLRA3),}\n",
      "  transporter: {gene/protein: (ABCC2, ABCG2, ABCC1, ABCB1, SLCO1B1, SLCO1B3),}\n",
      "  contraindication: {disease: (filariasis, loiasis),}\n",
      "  indication: {disease: (onchocerciasis, strongyloidiasis),}\n",
      "  synergistic_interaction: {drug: (Beclomethasone dipropionate, Betamethasone, Triamcinolone, Diethylstilbestrol, Liothyronine, Liotrix, Genistein, Ubidecarenone, Torasemide, Nelfinavir, Lovastatin, Ziprasidone, Phenytoin, Metoprolol, Dicoumarol, Conjugated estrogens, Etonogestrel, Desogestrel, Gefitinib, Meperidine, Duloxetine, Chlorpromazine, Raloxifene, Zidovudine, Ritonavir, Erlotinib, Ciprofloxacin, Nortriptyline, Methotrexate, Cephalexin, Clonidine, Enalapril, Medroxyprogesterone acetate, Chloroquine, Imatinib, Testosterone, Stavudine, Estrone, Tamoxifen, Warfarin, Lamivudine, Norethisterone, Irinotecan, Estradiol, Propofol, Clofazimine, Terbinafine, Tacrolimus, Quinidine, Repaglinide, Salmeterol, Phenprocoumon, Fexofenadine, Isoniazid, Norgestimate, Ethinylestradiol, Isotretinoin, Doxorubicin, Letrozole, Sulfamethoxazole, Fenofibrate, Rifampicin, Benzylpenicillin, Atazanavir, Atorvastatin, Rosuvastatin, Amiodarone, Captopril, Saquinavir, Dexamethasone, Gemfibrozil, Clomipramine, Fosphenytoin, Colchicine, Digitoxin, Acenocoumarol, Topiroxostat, Quercetin, Estrone sulfate, Dronedarone, Vandetanib, Cenobamate, Rufinamide, Simeprevir, Prucalopride, (R)-warfarin, Vismodegib, Pitavastatin, Rilpivirine, Ulipristal, Vemurafenib, Palbociclib, Nintedanib, Tenofovir alafenamide, Grazoprevir, Vinflunine, Pitolisant, Acalabrutinib, Istradefylline, Fostemsavir, Neratinib, Revefenacin, Dacomitinib, Glasdegib, Abemaciclib, Gilteritinib, Copanlisib, Darolutamide, Pexidartinib, Testosterone enanthate, Estradiol acetate, Estradiol benzoate, Estradiol cypionate, Estradiol dienanthate, Estradiol valerate, Tenofovir, Ripretinib, Elexacaftor, Niacin, Clofibrate, Metoclopramide, Cholic Acid, Ethanol, Dronabinol, Montelukast, Zafirlukast, Etoposide, Ifosfamide, Trabectedin, Propylthiouracil, Cannabidiol, Medical Cannabis, Nabiximols, Risedronic acid, Bumetanide, Drospirenone, Progesterone, Bempedoic acid, Mefloquine, Ranitidine, Vitamin D, Tucatinib, Cimetidine, Busulfan, Cobimetinib, Ticlopidine, Cytarabine, Caffeine, Theophylline, Omeprazole, Lansoprazole, Paclitaxel, Docetaxel, Dasatinib, Norelgestromin, Methyldopa, Carbimazole, Cyproterone acetate, Norgestrel, Nizatidine, Procainamide, Thiotepa, Sumatriptan, Safinamide, Procarbazine, Ethyl biscoumacetate, Cyclosporine, Erythromycin, Sildenafil, Indinavir, Terfenadine, Levonorgestrel, Amlodipine, Sorafenib, Cerivastatin, Teniposide, Haloperidol, Lercanidipine, Cyclophosphamide, Vincristine, Carbamazepine, Cisapride, Astemizole, Simvastatin, Mycophenolate mofetil, Mifepristone, Sirolimus, Triazolam, Buprenorphine, Fluvastatin, Pimozide, Sunitinib, Trastuzumab emtansine, Romidepsin, Temsirolimus, Ambrisentan, Midostaurin, Axitinib, Gestodene, Cabazitaxel, Hydroxyprogesterone caproate, Crizotinib, Ponatinib, Idelalisib, Cobicistat, Olaparib, Daclatasvir, Paritaprevir, Asunaprevir, Isavuconazole, Letermovir, Rucaparib, Bortezomib, Venlafaxine, Vinorelbine, Zolpidem, Prochlorperazine, Vinblastine, Doxazosin, Bicalutamide, Rabeprazole, St. John's Wort, Everolimus, Zuclopenthixol, Fusidic acid, Nilotinib, Pazopanib, Panobinostat, Netupitant, Dasabuvir, Rolapitant, Ixazomib, Lasmiditan, Elagolix, Fedratinib, Levosalbutamol, Ipecac, Enasidenib, Remdesivir, Tacrine, Trimethoprim, Albendazole, Norfloxacin, Hesperetin, Leflunomide, Ofloxacin, Aminophylline, Dovitinib, Eltrombopag, Teriflunomide, Pomalidomide, Tasimelteon, Osimertinib, Capmatinib, Abametapir, Voxilaprevir, Lorazepam, Phentermine, Dofetilide, Azithromycin, Pantoprazole, Methysergide, Cabergoline, Vindesine, Dihydroergotamine, Megestrol acetate, Caspofungin, Bosentan, Amphotericin B, Ergotamine, Ethynodiol diacetate, Conivaptan, Ezetimibe, Levacetylmethadol, Mestranol, Bezafibrate, Pranlukast, Roflumilast, Ixabepilone, Tolvaptan, Lacosamide, Bosutinib, Fosaprepitant, Lomitapide, Brentuximab vedotin, Ruxolitinib, Linagliptin, Regorafenib, Dabrafenib, Vorapaxar, Suvorexant, Ceritinib, Dienogest, Sonidegib, Tianeptine, Norethynodrel, Dihydroergocornine, Selexipag, Venetoclax, Velpatasvir, Gestrinone, Nomegestrol, Ribociclib, Ebastine, Baricitinib, Apalutamide, Duvelisib, Entrectinib, Fostamatinib, Alpelisib, Erdafitinib, Brigatinib, Siponimod, Lynestrenol, 9-aminocamptothecin, Lefamulin, Tazemetostat, Methylprednisone, Dihydroergocristine, Diphenadione, Dihydroergocryptine, Chlormadinone, Quingestanol, Demegestone, Etynodiol, Glecaprevir, Nomegestrol acetate, (S)-Warfarin, Ivosidenib, Norethindrone enanthate, Zanubrutinib, Mevastatin, Valsartan, Coumarin, Avatrombopag, Fluindione, Cladribine, Telmisartan, Digoxin, Famciclovir, Naltrexone, Raltegravir, Pibrentasvir, Minocycline, Sulfasalazine, Cholecystokinin, Eprosartan, Fimasartan, Dinoprostone, Iloprost, Ciprofibrate, Fenofibric acid, Somatotropin, Allylestrenol, Naringenin, Daidzin, Leuprolide, Nafarelin, Baclofen, Temocapril, Isosorbide, Tafamidis, Alectinib, Eluxadoline, Afatinib, Atrasentan, Pravastatin, Infliximab, Phenindione, Ouabain, Pamidronic acid, Alendronic acid, Ibandronate, Cholesterol, Levamisole, Elacridar, Lonidamine, Taurocholic acid, Metreleptin, Gossypol, Octylphenoxy polyethoxyethanol, p-Coumaric acid, Novobiocin, Penicillamine, Gimatecan, Gadoxetic acid, Technetium Tc-99m mebrofenin, Ganciclovir, Sincalide, Daptomycin, Lactulose, Acipimox, Mebeverine, 4-hydroxycoumarin, Trestolone, Cloprostenol, Triptolide, Clorindione, Ormeloxifene, Tioclomarol, Norgestrienone, Picosulfuric acid, BCG vaccine, Typhoid vaccine, Vibrio cholerae CVD 103-HgR strain live antigen, Etofibrate, Simfibrate, Ronifibrate, Aluminium clofibrate, Clofibride, Emetine),}\n",
      "  side_effect: {effect/phenotype: (Edema, Inflammatory abnormality of the skin, Hyperhidrosis, Keratitis, Abdominal distention, Fever, Pain, Seizure, Headache, Dyspnea, Tremor, Encephalopathy, Vomiting, Abdominal pain, Lymphadenopathy, Hematuria, Back pain, Myalgia, Tachycardia, Hepatitis, Respiratory distress, Arthralgia, Blindness, Vertigo, Lethargy, Fatigue, Palpebral edema, Pruritus, Cough, Confusion, Eosinophilia, Chest pain, Bowel incontinence, Facial edema, Coma, Leukopenia, Nausea, Apathy, Dry skin, Excessive daytime somnolence, Difficulty standing, Poor appetite, Peripheral edema),}\n"
     ]
    }
   ],
   "source": [
    "print(skb.get_rel_info(15450, n_rel=-1))"
   ]
  },
  {
   "cell_type": "code",
   "execution_count": 22,
   "metadata": {},
   "outputs": [
    {
     "name": "stdout",
     "output_type": "stream",
     "text": [
      "[8974]\n",
      "- name: CYP3A4\n",
      "- type: gene/protein\n",
      "- source: NCBI\n",
      "- details:\n",
      "  - query: CYP3A4\n",
      "  - alias (other gene names): ['CP33', 'CP34', 'CYP3A', 'CYP3A3', 'CYPIIIA3', 'CYPIIIA4', 'HLP', 'NF-25', 'P450C3', 'P450PCN1', 'VDDR3']\n",
      "  - genomic_pos (genomic position): {'chr': '7', 'end': 99784248, 'ensemblgene': 'ENSG00000160868', 'start': 99756960, 'strand': -1}\n",
      "  - name (gene name): cytochrome P450 family 3 subfamily A member 4\n",
      "  - summary (protein summary text): This gene encodes a member of the cytochrome P450 superfamily of enzymes. The cytochrome P450 proteins are monooxygenases that catalyze many reactions involved in drug metabolism and synthesis of cholesterol, steroids and other lipids. This protein localizes to the endoplasmic reticulum and its expression is induced by glucocorticoids and some pharmacological agents. This enzyme is involved in the metabolism of approximately half the drugs in use today, including acetaminophen, codeine, cyclosporin A, diazepam, erythromycin, and chloroquine. The enzyme also metabolizes some steroids and carcinogens. This gene is part of a cluster of cytochrome P450 genes on chromosome 7q21.1. Previously another CYP3A gene, CYP3A3, was thought to exist; however, it is now thought that this sequence represents a transcript variant of CYP3A4. Alternatively spliced transcript variants encoding different isoforms have been identified. [provided by RefSeq, Aug 2020].\n",
      "\n"
     ]
    }
   ],
   "source": [
    "print(skb.get_neighbor_nodes(15450, edge_type='enzyme'))\n",
    "print(skb.get_doc_info(8974, add_rel=False))"
   ]
  },
  {
   "cell_type": "code",
   "execution_count": null,
   "metadata": {},
   "outputs": [],
   "source": []
  },
  {
   "cell_type": "markdown",
   "metadata": {},
   "source": []
  }
 ],
 "metadata": {
  "kernelspec": {
   "display_name": "stark",
   "language": "python",
   "name": "python3"
  },
  "language_info": {
   "codemirror_mode": {
    "name": "ipython",
    "version": 3
   },
   "file_extension": ".py",
   "mimetype": "text/x-python",
   "name": "python",
   "nbconvert_exporter": "python",
   "pygments_lexer": "ipython3",
   "version": "3.11.13"
  },
  "orig_nbformat": 4
 },
 "nbformat": 4,
 "nbformat_minor": 2
}
